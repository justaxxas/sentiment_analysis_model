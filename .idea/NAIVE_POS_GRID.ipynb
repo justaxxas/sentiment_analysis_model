{
 "cells": [
  {
   "cell_type": "code",
   "execution_count": 10,
   "metadata": {
    "collapsed": true
   },
   "outputs": [
    {
     "name": "stdout",
     "output_type": "stream",
     "text": [
      "0.6665\n",
      "{'alpha': 0.1}\n"
     ]
    }
   ],
   "source": [
    "import numpy as np\n",
    "import seaborn as sns\n",
    "import matplotlib.pyplot as plt\n",
    "import pandas as pd\n",
    "import xlrd\n",
    "import re\n",
    "import nltk\n",
    "from sklearn.metrics import accuracy_score\n",
    "import pandas\n",
    "from sklearn.feature_extraction.text import TfidfVectorizer\n",
    "from sklearn.model_selection import train_test_split\n",
    "from sklearn.svm import LinearSVC\n",
    "from sklearn.naive_bayes import MultinomialNB\n",
    "from sklearn.feature_extraction.text import CountVectorizer\n",
    "from sklearn.model_selection import GridSearchCV\n",
    "from sklearn.metrics import classification_report, confusion_matrix\n",
    "from sklearn import preprocessing\n",
    "\n",
    "svietimas_data = pd.read_excel(r'C:\\Users\\Pc\\Desktop\\STEMMED_NEU.xlsx')\n",
    "\n",
    "sentences = svietimas_data['text']\n",
    "y = svietimas_data['sentiment']\n",
    "\n",
    "\n",
    "vectorizer = TfidfVectorizer(lowercase=False, min_df=10)\n",
    "vectorizer.fit(sentences)\n",
    "sentences = vectorizer.transform(sentences)\n",
    "\n",
    "classifier = MultinomialNB()\n",
    "\n",
    "X_train, X_test, y_train, y_test = train_test_split(sentences, y, test_size=0.2, random_state=42, stratify= y)\n",
    "\n",
    "tuned_parameters = [{'alpha': (1, 0.5, 0.1, 0.01, 0.001, 0.0001, 0.00001)}]\n",
    "\n",
    "grid_search = GridSearchCV(classifier, tuned_parameters, cv=10, scoring='accuracy', return_train_score=False)\n",
    "grid_search.fit(X_train, y_train)\n",
    "\n",
    "print(grid_search.best_score_)\n",
    "print(grid_search.best_params_)\n"
   ]
  }
 ],
 "metadata": {
  "kernelspec": {
   "display_name": "Python 3",
   "language": "python",
   "name": "python3"
  },
  "language_info": {
   "codemirror_mode": {
    "name": "ipython",
    "version": 2
   },
   "file_extension": ".py",
   "mimetype": "text/x-python",
   "name": "python",
   "nbconvert_exporter": "python",
   "pygments_lexer": "ipython2",
   "version": "2.7.6"
  }
 },
 "nbformat": 4,
 "nbformat_minor": 0
}