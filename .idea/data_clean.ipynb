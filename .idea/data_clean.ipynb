{
 "cells": [
  {
   "cell_type": "code",
   "execution_count": 4,
   "metadata": {
    "collapsed": true
   },
   "outputs": [],
   "source": []
  },
  {
   "cell_type": "code",
   "execution_count": 5,
   "outputs": [],
   "source": [
    "import numpy as np\n",
    "import seaborn as sns\n",
    "import pandas as pd\n",
    "import xlrd\n",
    "import re\n",
    "from sklearn import svm\n",
    "import nltk\n",
    "import pandas\n",
    "from sklearn.metrics import accuracy_score\n",
    "from sklearn.feature_extraction.text import TfidfVectorizer\n",
    "from sklearn.model_selection import train_test_split\n",
    "from sklearn.svm import LinearSVC\n",
    "from sklearn.feature_extraction.text import CountVectorizer\n",
    "from sklearn.metrics import classification_report\n",
    "from sklearn.metrics import confusion_matrix\n",
    "from sklearn import preprocessing\n",
    "from sklearn.model_selection import GridSearchCV\n",
    "\n",
    "svietimas_data = pd.read_excel(r'C:\\Users\\Pc\\Desktop\\NEG_BALANCE.xlsx')\n",
    "\n",
    "my_file = open(\"stopwords.txt\", \"r\", encoding=\"utf8\")\n",
    "data = my_file.read()\n",
    "stop_words_list = data.split('\\n')\n",
    "my_file.close()\n",
    "\n",
    "\n",
    "def clean_data(data):\n",
    "    data = str(data).lower()\n",
    "    data = re.sub(\"\\n+\", '', data)\n",
    "    letters = re.sub(r'[0-9]', '', data)\n",
    "    punctuation = re.sub(r'[^\\w\\s]', '', letters)\n",
    "    return punctuation\n",
    "\n",
    "\n",
    "def stop_words(words):\n",
    "    filter_words = []\n",
    "    for word in words:\n",
    "        if word not in stop_words_list:\n",
    "            filter_words.append(word)\n",
    "    return filter_words\n",
    "\n",
    "\n",
    "def words_length(words):\n",
    "    filter_word = []\n",
    "    for word in words:\n",
    "        if len(word) > 2:\n",
    "            filter_word.append(word)\n",
    "    return filter_word\n",
    "\n",
    "\n",
    "svietimas_data['text'] = svietimas_data['text'].apply(lambda x: x.split(' '))\n",
    "svietimas_data['text'] = svietimas_data['text'].apply(lambda x: clean_data(x))\n",
    "svietimas_data['text'] = svietimas_data['text'].apply(lambda x: x.split(' '))\n",
    "svietimas_data['text'] = svietimas_data['text'].apply(lambda x: stop_words(x))\n",
    "svietimas_data['text'] = svietimas_data['text'].apply(lambda x: words_length(x))\n",
    "svietimas_data['text'] = svietimas_data['text'].apply(lambda x: ' '.join(x))\n",
    "\n",
    "df = pd.DataFrame(svietimas_data)\n",
    "df.to_excel('NEG.xlsx', encoding='utf_8_sig')\n",
    "\n",
    "\n",
    "\n"
   ],
   "metadata": {
    "collapsed": false,
    "pycharm": {
     "name": "#%%\n"
    }
   }
  }
 ],
 "metadata": {
  "kernelspec": {
   "display_name": "Python 3",
   "language": "python",
   "name": "python3"
  },
  "language_info": {
   "codemirror_mode": {
    "name": "ipython",
    "version": 2
   },
   "file_extension": ".py",
   "mimetype": "text/x-python",
   "name": "python",
   "nbconvert_exporter": "python",
   "pygments_lexer": "ipython2",
   "version": "2.7.6"
  }
 },
 "nbformat": 4,
 "nbformat_minor": 0
}
