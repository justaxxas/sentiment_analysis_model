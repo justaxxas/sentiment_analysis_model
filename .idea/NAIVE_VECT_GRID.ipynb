{
 "cells": [
  {
   "cell_type": "code",
   "execution_count": 3,
   "metadata": {
    "collapsed": true
   },
   "outputs": [
    {
     "name": "stdout",
     "output_type": "stream",
     "text": [
      "Fitting 10 folds for each of 36 candidates, totalling 360 fits\n",
      "Best parameters set:\n",
      "[('vect', TfidfVectorizer(min_df=10)), ('clf', MultinomialNB(alpha=0.1))]\n"
     ]
    }
   ],
   "source": [
    "import numpy as np\n",
    "import seaborn as sns\n",
    "import matplotlib.pyplot as plt\n",
    "import pandas as pd\n",
    "import xlrd\n",
    "import re\n",
    "import nltk\n",
    "from sklearn.metrics import accuracy_score\n",
    "import pandas\n",
    "from sklearn.pipeline import Pipeline\n",
    "from sklearn.feature_extraction.text import TfidfVectorizer\n",
    "from sklearn.model_selection import train_test_split\n",
    "from sklearn.svm import LinearSVC\n",
    "from sklearn.naive_bayes import MultinomialNB\n",
    "from sklearn.feature_extraction.text import CountVectorizer\n",
    "from sklearn.model_selection import GridSearchCV\n",
    "from sklearn.metrics import classification_report, confusion_matrix\n",
    "from sklearn import preprocessing\n",
    "\n",
    "svietimas_data = pd.read_excel(r'C:\\Users\\Pc\\Desktop\\STEMMED_NEU.xlsx')\n",
    "\n",
    "\n",
    "sentences = svietimas_data['text']\n",
    "y = svietimas_data['sentiment']\n",
    "\n",
    "\n",
    "\n",
    "\n",
    "X_train, X_test, y_train, y_test = train_test_split(sentences, y, test_size=0.20, random_state=42, stratify= y)\n",
    "\n",
    "\n",
    "\n",
    "pipeline = Pipeline([\n",
    "    ('vect', TfidfVectorizer()),\n",
    "    ('clf', MultinomialNB(alpha=0.1)),\n",
    "])\n",
    "parameters = [{\n",
    "    'vect__max_df': (100,150,300),\n",
    "    'vect__min_df': (1,10,15),\n",
    "    'vect__ngram_range': [(1, 1), (1, 2), (1, 3)],\n",
    "},\n",
    "    {\n",
    "        'vect': [CountVectorizer()],\n",
    "        'vect__max_df': (100,150,300),\n",
    "        'vect__min_df': (1,10,15),\n",
    "        'vect__ngram_range': [(1, 1), (1, 2), (1, 3)],\n",
    "    }]\n",
    "\n",
    "\n",
    "\n",
    "grid_search = GridSearchCV(pipeline, parameters)\n",
    "\n",
    "\n",
    "grid_search_tune = GridSearchCV(pipeline, parameters, cv=10, n_jobs=2, verbose=3)\n",
    "grid_search_tune.fit(X_train, y_train)\n",
    "\n",
    "print(\"Best parameters set:\")\n",
    "print(grid_search_tune.best_estimator_.steps)"
   ]
  }
 ],
 "metadata": {
  "kernelspec": {
   "display_name": "Python 3",
   "language": "python",
   "name": "python3"
  },
  "language_info": {
   "codemirror_mode": {
    "name": "ipython",
    "version": 2
   },
   "file_extension": ".py",
   "mimetype": "text/x-python",
   "name": "python",
   "nbconvert_exporter": "python",
   "pygments_lexer": "ipython2",
   "version": "2.7.6"
  }
 },
 "nbformat": 4,
 "nbformat_minor": 0
}