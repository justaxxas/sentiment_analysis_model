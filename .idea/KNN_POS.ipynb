{
 "cells": [
  {
   "cell_type": "code",
   "execution_count": 3,
   "metadata": {
    "collapsed": true
   },
   "outputs": [
    {
     "name": "stdout",
     "output_type": "stream",
     "text": [
      "0.5878419452887538\n",
      "[0.5767477203647416, 0.5881458966565349, 0.6025835866261399, 0.5843465045592705, 0.587386018237082]\n"
     ]
    }
   ],
   "source": [
    "import numpy as np\n",
    "import seaborn as sns\n",
    "import matplotlib.pyplot as plt\n",
    "import pandas as pd\n",
    "import xlrd\n",
    "import re\n",
    "from sklearn.model_selection import GridSearchCV\n",
    "import nltk\n",
    "import pandas\n",
    "from sklearn.metrics import accuracy_score\n",
    "from sklearn.feature_extraction.text import TfidfVectorizer\n",
    "from sklearn.model_selection import train_test_split\n",
    "from sklearn.feature_extraction.text import CountVectorizer\n",
    "from sklearn.metrics import classification_report, confusion_matrix\n",
    "from sklearn import preprocessing\n",
    "from sklearn.neighbors import KNeighborsClassifier\n",
    "\n",
    "svietimas_data = pd.read_excel(r'C:\\Users\\Pc\\Desktop\\STEMMED_NEG.xlsx')\n",
    "\n",
    "\n",
    "sentences = svietimas_data['text']\n",
    "y = svietimas_data['sentiment']\n",
    "\n",
    "vectorizer = TfidfVectorizer(lowercase=False)\n",
    "vectorizer.fit(sentences)\n",
    "sentences = vectorizer.transform(sentences)\n",
    "\n",
    "i = 5\n",
    "accuracyList = []\n",
    "for time in range(5):\n",
    "\n",
    "\n",
    "    X_train, X_test, y_train, y_test = train_test_split(sentences, y, test_size=0.20, random_state=i, stratify= y)\n",
    "\n",
    "    classifier = KNeighborsClassifier(n_neighbors=9, metric='euclidean', weights='distance')\n",
    "\n",
    "    classifier.fit(X_train, y_train)\n",
    "\n",
    "\n",
    "    y_pred = classifier.predict(X_test)\n",
    "    accuracyList.append(accuracy_score(y_test, y_pred))\n",
    "    i = i+1\n",
    "\n",
    "print(sum(accuracyList)/len(accuracyList))\n",
    "print(accuracyList)\n",
    "#print(classification_report(y_test, y_pred))\n",
    "#print(accuracy_score(y_test, y_pred))\n",
    "#print(confusion_matrix(y_test, y_pred))"
   ]
  }
 ],
 "metadata": {
  "kernelspec": {
   "display_name": "Python 3",
   "language": "python",
   "name": "python3"
  },
  "language_info": {
   "codemirror_mode": {
    "name": "ipython",
    "version": 2
   },
   "file_extension": ".py",
   "mimetype": "text/x-python",
   "name": "python",
   "nbconvert_exporter": "python",
   "pygments_lexer": "ipython2",
   "version": "2.7.6"
  }
 },
 "nbformat": 4,
 "nbformat_minor": 0
}