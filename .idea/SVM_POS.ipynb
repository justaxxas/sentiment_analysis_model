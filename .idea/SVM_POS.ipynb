{
 "cells": [
  {
   "cell_type": "code",
   "execution_count": 1,
   "outputs": [
    {
     "name": "stdout",
     "output_type": "stream",
     "text": [
      "0.6779591836734694\n",
      "[0.6785714285714286, 0.6938775510204082, 0.673469387755102, 0.6693877551020408, 0.6744897959183673]\n"
     ]
    }
   ],
   "source": [
    "import numpy as np\n",
    "import seaborn as sns\n",
    "import pandas as pd\n",
    "import xlrd\n",
    "import re\n",
    "from sklearn import svm\n",
    "import nltk\n",
    "import pandas\n",
    "from sklearn.metrics import accuracy_score\n",
    "from sklearn.feature_extraction.text import TfidfVectorizer\n",
    "from sklearn.model_selection import train_test_split\n",
    "from sklearn.svm import LinearSVC\n",
    "from sklearn.feature_extraction.text import CountVectorizer\n",
    "from sklearn.metrics import classification_report\n",
    "from sklearn.metrics import confusion_matrix\n",
    "from sklearn import preprocessing\n",
    "from sklearn.model_selection import GridSearchCV\n",
    "\n",
    "svietimas_data = pd.read_excel(r'C:\\Users\\Pc\\Desktop\\STEMMED_POS.xlsx')\n",
    "\n",
    "\n",
    "sentences = svietimas_data['text']\n",
    "y = svietimas_data['sentiment']\n",
    "\n",
    "vectorizer = TfidfVectorizer(lowercase=False)\n",
    "vectorizer.fit(sentences)\n",
    "sentences = vectorizer.transform(sentences)\n",
    "\n",
    "i = 5\n",
    "accuracyList = []\n",
    "for time in range(5):\n",
    "\n",
    "    X_train, X_test, y_train, y_test = train_test_split(sentences, y, test_size=0.20, random_state=i, stratify= y)\n",
    "\n",
    "    model = svm.SVC(kernel='linear', C=1)\n",
    "\n",
    "    model.fit(X_train, y_train)\n",
    "\n",
    "    y_pred = model.predict(X_test)\n",
    "    accuracyList.append(accuracy_score(y_test, y_pred))\n",
    "    i = i+1\n",
    "\n",
    "print(sum(accuracyList)/len(accuracyList))\n",
    "print(accuracyList)\n",
    "#print(classification_report(y_test, y_pred))\n",
    "#print(accuracy_score(y_test, y_pred))\n",
    "#print(confusion_matrix(y_test, y_pred))"
   ],
   "metadata": {
    "collapsed": false,
    "pycharm": {
     "name": "#%%\n"
    }
   }
  }
 ],
 "metadata": {
  "kernelspec": {
   "display_name": "Python 3",
   "language": "python",
   "name": "python3"
  },
  "language_info": {
   "codemirror_mode": {
    "name": "ipython",
    "version": 2
   },
   "file_extension": ".py",
   "mimetype": "text/x-python",
   "name": "python",
   "nbconvert_exporter": "python",
   "pygments_lexer": "ipython2",
   "version": "2.7.6"
  }
 },
 "nbformat": 4,
 "nbformat_minor": 0
}